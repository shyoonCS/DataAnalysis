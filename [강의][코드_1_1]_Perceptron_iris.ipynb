{
  "cells": [
    {
      "cell_type": "markdown",
      "metadata": {
        "id": "view-in-github",
        "colab_type": "text"
      },
      "source": [
        "<a href=\"https://colab.research.google.com/github/shyoonCS/DataAnalysis/blob/main/%5B%EA%B0%95%EC%9D%98%5D%5B%EC%BD%94%EB%93%9C_1_1%5D_Perceptron_iris.ipynb\" target=\"_parent\"><img src=\"https://colab.research.google.com/assets/colab-badge.svg\" alt=\"Open In Colab\"/></a>"
      ]
    },
    {
      "cell_type": "markdown",
      "id": "226b79a3",
      "metadata": {
        "id": "226b79a3"
      },
      "source": [
        "## 실습: 퍼셉트론을 이용한 붓꽃 식별\n",
        "데이터 집합은 'setosa', 'virginica', 'versicolor'라는 세 종류의 붓꽃의 특징 데이터가 50개씩 포함되어 있다.<br>\n",
        "특징은 꽃받침(sepal)과 꽃잎(petal)의 길이와 폭의 값으로 구성된다.\n",
        "\n",
        "### 사전 기초 지식\n",
        "#### <Iris 데이터 구성 예제>\n",
        "- 꽃받침 길이(Sepal Length), 꽃받침 폭(Sepal Width), 꽃잎 길이(Petal Length), 꽃잎 폭(Petal Width), 꽃의 종류(Iris Species)<br>\n",
        "![iris_raw_data.png](attachment:iris_raw_data.png)<br>"
      ]
    },
    {
      "cell_type": "markdown",
      "id": "9f3400fe",
      "metadata": {
        "id": "9f3400fe"
      },
      "source": [
        "![Iris_flower.png](attachment:Iris_flower.png)"
      ]
    },
    {
      "cell_type": "markdown",
      "id": "bb80dddd",
      "metadata": {
        "id": "bb80dddd"
      },
      "source": [
        "#### <Pandas 모듈 활용하여 Iris 데이터 보기>\n",
        "▶ [[Pandas] loc[ ] 로 행, 열 조회하기](https://m.blog.naver.com/wideeyed/221964700554)"
      ]
    },
    {
      "cell_type": "code",
      "execution_count": null,
      "id": "f31305cb",
      "metadata": {
        "id": "f31305cb",
        "outputId": "6f0f5027-1e64-4c89-df70-814b424d9320"
      },
      "outputs": [
        {
          "name": "stdout",
          "output_type": "stream",
          "text": [
            "     sepal_length  sepal_width  petal_length  petal_width     species\n",
            "38            4.4          3.0           1.3          0.2      setosa\n",
            "109           7.2          3.6           6.1          2.5   virginica\n",
            "113           5.7          2.5           5.0          2.0   virginica\n",
            "84            5.4          3.0           4.5          1.5  versicolor\n",
            "128           6.4          2.8           5.6          2.1   virginica\n",
            "..            ...          ...           ...          ...         ...\n",
            "64            5.6          2.9           3.6          1.3  versicolor\n",
            "120           6.9          3.2           5.7          2.3   virginica\n",
            "147           6.5          3.0           5.2          2.0   virginica\n",
            "3             4.6          3.1           1.5          0.2      setosa\n",
            "94            5.6          2.7           4.2          1.3  versicolor\n",
            "\n",
            "[120 rows x 5 columns] 38         setosa\n",
            "109     virginica\n",
            "113     virginica\n",
            "84     versicolor\n",
            "128     virginica\n",
            "          ...    \n",
            "64     versicolor\n",
            "120     virginica\n",
            "147     virginica\n",
            "3          setosa\n",
            "94     versicolor\n",
            "Name: species, Length: 120, dtype: object\n"
          ]
        }
      ],
      "source": [
        "import pandas as pd\n",
        "from sklearn.model_selection import train_test_split\n",
        "\n",
        "#붓꽃 데이터를 읽어들인다.\n",
        "iris_data = pd.read_csv('IRIS_Model/iris.csv', encoding = 'utf-8')\n",
        "\n",
        "#붓꽃 데이터를 레이블과 입력 데이터로 분리\n",
        "y = iris_data.loc[:, \"species\"] #pandas의 loc로 행열 데이터를 가져온다.\n",
        "x = iris_data.loc[:, [\"sepal_length\", \"sepal_width\", \"petal_length\", \"petal_width\", \"species\"]]\n",
        "# print(x)\n",
        "\n",
        "#학습전용과 테스트 전용 분리\n",
        "x_train, x_test, y_train, y_test = train_test_split(x, y, test_size=0.2, train_size=0.8, shuffle=True)\n",
        "print(x_train, y_train)"
      ]
    },
    {
      "cell_type": "markdown",
      "id": "8e9f6ec3",
      "metadata": {
        "id": "8e9f6ec3"
      },
      "source": [
        "### 코드1-1[1] 필요한 패키지 불러오기\n",
        "- 데이터 시각화를 위해 matplotlib.pyplot을 사용\n",
        "- 배열 및 수학 계산을 위해 numpy를 사용\n",
        "- 붓꽃 데이터 집합을 활용하기 위해 sklearn.datasets의 load_iris를 사용"
      ]
    },
    {
      "cell_type": "code",
      "execution_count": null,
      "id": "364e7498",
      "metadata": {
        "id": "364e7498"
      },
      "outputs": [],
      "source": [
        "import matplotlib.pyplot as plt\n",
        "import numpy as np\n",
        "from sklearn.datasets import load_iris"
      ]
    },
    {
      "cell_type": "markdown",
      "id": "358a064a",
      "metadata": {
        "id": "358a064a"
      },
      "source": [
        "### 코드1-1[2] 데이터 준비 함수 정의하기\n",
        "- load_iris를 이용하여 붓꽃 데이터 집합을 읽는다.\n",
        "- 각각의 붓꽃 표본은 4개의 특징으로 구성된다. 그중 꽃잎의 길이와 폭을 취한다.\n",
        "- 각 표본에 대한 레이블은 그 표본의 target_name이 매개변수 target에 지정된 것과 같은 문자열이면 1, 그렇지 않으면 0으로 한다."
      ]
    },
    {
      "cell_type": "code",
      "execution_count": null,
      "id": "e1e621fb",
      "metadata": {
        "id": "e1e621fb"
      },
      "outputs": [],
      "source": [
        "def prepare_data(target):\n",
        "    iris = load_iris()          # iris data set 읽기\n",
        "    X_tr = iris.data[:, 2:]     # 4개의 특징 중 꽃잎의 길이와 폭 선택(3번째, 4번째)\n",
        "    labels = iris.target_names  # 'setosa', 'versicolor', 'virginica'\n",
        "    y = iris.target\n",
        "\n",
        "    # 학습표본의 레이블 지정 - target에 지정된 레이블이면 1, 그 외는 0\n",
        "    y_tr = []\n",
        "    for i in range(150):\n",
        "        y_tr.append(labels[y[i]] == target)\n",
        "    y_tr = np.array(y_tr, dtype=int)\n",
        "    return X_tr, y_tr, ['(1) '+target, '(0) the others']"
      ]
    },
    {
      "cell_type": "markdown",
      "id": "f38b637e",
      "metadata": {
        "id": "f38b637e"
      },
      "source": [
        "### 코드1-1[3] 활성함수 - 단위 계단 함수"
      ]
    },
    {
      "cell_type": "code",
      "execution_count": null,
      "id": "3dc3cb3f",
      "metadata": {
        "id": "3dc3cb3f"
      },
      "outputs": [],
      "source": [
        "# 활성 함수 - 단위 계단 함수\n",
        "def step(x):\n",
        "    return int(x >= 0)"
      ]
    },
    {
      "cell_type": "markdown",
      "id": "8d61d3c9",
      "metadata": {
        "id": "8d61d3c9"
      },
      "source": [
        "### 코드1-1[4] 퍼셉트론 객체를 만들기 위한 클래스 선언하기\n",
        "- __init__(self, dim, activation): 퍼셉트론 객체를 초기화한다. 연결 가중치 w와 바이어스 b는 정규분포 랜덤 값으로 초기화\n",
        "- printW(self): 퍼셉트론 객체의 연결 가중치 및 바이어스를 출력한다.\n",
        "- predict(self, x): 학습된 퍼셉트론 객체가 입력된 표본 배열 x로부터 출력을 계산하여 반환한다.\n",
        "- fit(self, X, y, N, ephocs, eta=0.01): 주어진 학습표본 집합을 이용하여 퍼셉트론 객체를 훈련한다. X는 특징, y는 레이블을 저장하는 numpy 배열, N은 표본의 수, epochs는 반복 횟수, eta는 학습률이다.\n",
        "\n",
        "함수에서 처리하는 내용은 다음과 같다.\n",
        "\n",
        "- 21 ~ 24행: 학습표본이 무작위 순서로 사용되게 섞는다.\n",
        "- 29 ~ 40행: 지정된 횟수만큼 전체 학습표본에 대해 반복 학습한다.\n",
        "- 32행: 클래스의 predict 함수를 사용하여 식(1-14)의 출력을 계산한 후 레이블과의 오차 δ를 구한다.   \n",
        "- 33~34행: 식(1-15)에 따라 연결 가중치 w와 바이어스 b를 업데이트한다.\n",
        "<img src=\"%EC%88%98%EC%8B%9D%281-1415%29.png\" width=500px alt=\"수식 1-14, 1-15\"></img>\n",
        "\n",
        "#### Numpy의 랜덤함수\n",
        "▲ np.random.normal() => 정규분포(normal distribution)를 고려한 랜덤한수의 배열 생성\n",
        "```Python\n",
        "np.random.normal(0, 1, (3,3)) # 평균=0, 표준편차=1, 3x3 배열\n",
        "```\n",
        "\n",
        "▲ np.random.rand() => 균등분포(uniform distribution)를 고려한 랜덤한 수의 배열 생성\n",
        "```Python\n",
        "np.random.rand(3,3) #3x3 배열\n",
        "```\n",
        "\n",
        "▲ np.random.randn() => 표준정규분포(standard normal distribution)를 고려한 랜덤한 수의 배열 생성\n",
        "```Python\n",
        "np.random.randn(3,3) #3x3 배열\n",
        "```"
      ]
    },
    {
      "cell_type": "code",
      "execution_count": null,
      "id": "f4ca1772",
      "metadata": {
        "id": "f4ca1772"
      },
      "outputs": [],
      "source": [
        "class Perceptron():\n",
        "    def __init__(self, dim, activation):\n",
        "        rnd = np.random.default_rng()\n",
        "        self.dim = dim #입력층 입력의 수(특징 개수 -> 길이와 폭 2개)\n",
        "        self.activation = activation\n",
        "        # 가중치(w)와 바이어스(b)를 He normal 방식으로 초기화\n",
        "        self.w = rnd.normal(scale = np.sqrt(2.0 / dim), size=dim)\n",
        "        self.b = rnd.normal(scale = np.sqrt(2.0 / dim))\n",
        "\n",
        "    def printW(self):\n",
        "        for i in range(self.dim):\n",
        "            print('  w{} = {:6.3f}'.format(i+1, self.w[i]), end='')\n",
        "        print('  b = {:6.3f}'.format(self.b))\n",
        "\n",
        "    def predict(self, x):  # numpy 배열 x에 저장된 표본의 출력 계산\n",
        "        return np.array([self.activation(np.dot(self.w, x[i]) + self.b)\n",
        "                          for i in range(len(x))])\n",
        "\n",
        "    def fit(self, X, y, N, epochs, eta=0.01):\n",
        "        # 학습표본의 인덱스를 무작위 순서로 섞음\n",
        "        idx = list(range(N))\n",
        "        np.random.shuffle(idx)\n",
        "        X = np.array([X[idx[i]] for i in range(N)])\n",
        "        y = np.array([y[idx[i]] for i in range(N)])\n",
        "\n",
        "        f = 'Epochs = {:4d}    Loss = {:8.5f}'\n",
        "        print('w의 초깃값  ', end='')\n",
        "        self.printW()\n",
        "        for j in range(epochs):\n",
        "            for i in range(N):\n",
        "                # x[i]에 대한 출력 오차 계산\n",
        "                delta = self.predict([X[i]])[0] - y[i]\n",
        "                self.w -= eta * delta * X[i] #가중치 w 업데이트\n",
        "                self.b -= eta * delta        #바이어스 b 업데이트\n",
        "            # 학습 과정 출력\n",
        "            if j < 10 or (j+1) % 100 == 0:\n",
        "                loss = self.predict(X) - y\n",
        "                loss = (loss * loss).sum() / N #MSE 평균 제곱 오차 계산\n",
        "                print(f.format(j+1, loss), end='')\n",
        "                self.printW()"
      ]
    },
    {
      "cell_type": "markdown",
      "id": "68577d65",
      "metadata": {
        "id": "68577d65"
      },
      "source": [
        "### 코드1-1[5] 모델 시각화\n",
        "학습된 신경망의 동작을 시각화하는 함수를 정의한다.\n",
        "- net: 학습된 퍼셉트론(신경망)\n",
        "- X, y: 학습표본 집합의 입력 및 출력/특징 및 레이블의 배열\n",
        "- multi_class: 3개 이상의 클래를 대상으로 분류하는 신경망인 경우 참(Tru)임.\n",
        "- labels: 산점도를 그릴 클래스 레이블 리스트\n",
        "- class_id: 클래스의 이름으로 출력할 스트링 리스트\n",
        "- colors: 클래스를 구분할 색상 리스트\n",
        "- xlabel, ylabel: x, y축에 표시할 레이블\n",
        "- legend_loc: 범례를 표시할 위치\n",
        "\n",
        "함수에서 처리하는 내용은 다음과 같다.\n",
        "- 3 ~ 14행: 데이터 범위의 격자 좌표의 배열을 구한다.\n",
        "- 16 ~ 23행: 학습된 퍼셉트론 객체로 3~14행에서 구한 좌표에 대한 출력을 구한다.\n",
        "- 25 ~ 43행: pyplot을 이용하여 학습표본(큰 점으로 출력함)과 함께 격자 좌표 배열에 대한 신경망의 식별 결과(작은 점으로 출력)의 산점도를 그린다."
      ]
    },
    {
      "cell_type": "code",
      "execution_count": null,
      "id": "9c7e9c0d",
      "metadata": {
        "id": "9c7e9c0d"
      },
      "outputs": [],
      "source": [
        "def visualize(net, X, y, multi_class, labels, class_id, colors,xlabel, ylabel, legend_loc='lower right'):\n",
        "    # 데이터의 최소~최대 범위를 0.05 간격의 좌표값으로 나열\n",
        "    x_max = np.ceil(np.max(X[:, 0])).astype(int)\n",
        "    x_min = np.floor(np.min(X[:, 0])).astype(int)\n",
        "    y_max = np.ceil(np.max(X[:, 1])).astype(int)\n",
        "    y_min = np.floor(np.min(X[:, 1])).astype(int)\n",
        "    x_lin = np.linspace(x_min, x_max, (x_max-x_min)*20+1)\n",
        "    y_lin = np.linspace(y_min, y_max, (y_max-y_min)*20+1)\n",
        "\n",
        "    # x_lin과 y_lin의 격자좌표의 x와 y 값 구하기\n",
        "    x_mesh, y_mesh = np.meshgrid(x_lin, y_lin)\n",
        "\n",
        "    # (x, y) 좌표의 배열로 만들어 신경망의 입력 구성\n",
        "    X_test = np.column_stack([x_mesh.ravel(), y_mesh.ravel()])\n",
        "\n",
        "    # 학습된 신경망으로 X_test에 대한 출력 계산\n",
        "    if multi_class:\n",
        "        y_hat = net.predict(X_test)\n",
        "        y_hat = np.array([np.argmax(y_hat[k])\n",
        "                            for k in range(len(y_hat))], dtype=int)\n",
        "    else:\n",
        "        y_hat = (net.predict(X_test) >= 0.5).astype(int)\n",
        "        y_hat = y_hat.reshape(len(y_hat))\n",
        "\n",
        "    # 출력할 그래프의 수평/수직 범위 설정\n",
        "    plt.xlim(x_min, x_max)\n",
        "    plt.ylim(y_min, y_max)\n",
        "\n",
        "    # 클래스별로 산점도 그리기\n",
        "    for c, i, c_name in zip(colors, labels, class_id):\n",
        "        # 격자 좌표의 클래스별 산점도\n",
        "        plt.scatter(X_test[y_hat == i, 0], X_test[y_hat == i, 1],\n",
        "                     c = c, s = 5, alpha = 0.3, edgecolors = 'none')\n",
        "        # 학습 표본의 클래스별 산점도\n",
        "        plt.scatter(X[y == i, 0], X[y == i, 1],\n",
        "                     c = c, s = 20, label=c_name)\n",
        "    # 범례의 표시 위치 지정\n",
        "    plt.legend(loc=legend_loc)\n",
        "\n",
        "    # x축과 y축의 레이블을 지정한 후 그래프 출력\n",
        "    plt.xlabel(xlabel, size=12)\n",
        "    plt.ylabel(ylabel, size=12)\n",
        "    plt.show()"
      ]
    },
    {
      "cell_type": "markdown",
      "id": "4ec843e5",
      "metadata": {
        "id": "4ec843e5"
      },
      "source": [
        "### 코드1-1[6] 훈련 데이터 준비하기\n",
        "prepare_data 함수를 이용하여 150개의 붓꽃 표본에 대한 2차원 특징을 numpy 배열 형태로 X_tr에 저장한다.\n",
        "- 대상이 'setosa'인지 식별할 수 있게 훈련하기 위해 학습표본이 'setosa'라면 1\n",
        "- 그렇지 않으면 0을 y_tr에 numpy 배열 형태로 저장한다."
      ]
    },
    {
      "cell_type": "code",
      "execution_count": null,
      "id": "f0a03214",
      "metadata": {
        "id": "f0a03214"
      },
      "outputs": [],
      "source": [
        "nSamples = 150\n",
        "nDim = 2 #꽃잎의 길이와 너비\n",
        "target = 'setosa' #식별하고자 하는 붓꽃 종류 지정\n",
        "X_tr, y_tr, labels = prepare_data(target)"
      ]
    },
    {
      "cell_type": "markdown",
      "id": "4cd17ba1",
      "metadata": {
        "id": "4cd17ba1"
      },
      "source": [
        "### 코드1-1[7] 퍼셉트론 객체 생성 및 학습\n",
        "활성함수를 단위 계단 함수로 설정하여 2차원 입력으로 구성되는 퍼셉트론 객체를 생성한다.\n",
        "- 전체 학습표본에 대해 1,000번 반복하여 학습하며, 학습률은 0.01로 지정한다.\n",
        "\n",
        "#### <epochs 설명>\n",
        "한 번의 epoch는 인공 신경망에서 전체 데이터 셋에 대해 forward pass/backward pass 과정을 거친 것을 말한다.\n",
        "- 즉, 전체 데이터 셋에 대해 한 번 학습을 완료한 상태를 의미한다.\n",
        "\n",
        "▶ 신경망에서 사용되는 역전파 알고리즘(backpropagation algorithm)은 파라미터를 사용하여 입력부터 출력까지의 각 계층의 weight를 계산하는 과정을 거치는 순방향 패스(forward pass)과 forward pass를 반대로 거슬러 올라가며 다시 한 번 계산 과정을 거처 기존의 weight를 수정하는 역방향 패스(backward pass)로 나뉜다.\n",
        "- 이 전체 데이터 셋에 대해 해당 과정(forward pass + backward pass)이 완료되면 한 번의 epoch가 진행됐다고 볼 수 있다.\n",
        "- 따라서 epochs = 1000 이라면 전체 데이터를 1000번 사용해서 학습을 거치는 것이다."
      ]
    },
    {
      "cell_type": "code",
      "execution_count": null,
      "id": "602e0b07",
      "metadata": {
        "id": "602e0b07",
        "outputId": "a6b9d24a-989c-498f-9530-da176435ccfa"
      },
      "outputs": [
        {
          "name": "stdout",
          "output_type": "stream",
          "text": [
            "w의 초깃값    w1 =  0.366  w2 =  0.063  b = -0.815\n",
            "Epochs =    1    Loss =  0.33333  w1 =  0.063  w2 = -0.178  b = -0.505\n",
            "Epochs =    2    Loss =  0.33333  w1 =  0.082  w2 = -0.275  b = -0.145\n",
            "Epochs =    3    Loss =  0.04667  w1 =  0.067  w2 = -0.314  b =  0.015\n",
            "Epochs =    4    Loss =  0.02000  w1 =  0.057  w2 = -0.314  b =  0.045\n",
            "Epochs =    5    Loss =  0.00667  w1 =  0.050  w2 = -0.313  b =  0.075\n",
            "Epochs =    6    Loss =  0.00667  w1 =  0.044  w2 = -0.313  b =  0.085\n",
            "Epochs =    7    Loss =  0.00667  w1 =  0.038  w2 = -0.313  b =  0.095\n",
            "Epochs =    8    Loss =  0.01333  w1 =  0.028  w2 = -0.313  b =  0.105\n",
            "Epochs =    9    Loss =  0.00000  w1 =  0.045  w2 = -0.308  b =  0.115\n",
            "Epochs =   10    Loss =  0.00000  w1 =  0.045  w2 = -0.308  b =  0.115\n",
            "Epochs =  100    Loss =  0.00000  w1 =  0.045  w2 = -0.308  b =  0.115\n",
            "Epochs =  200    Loss =  0.00000  w1 =  0.045  w2 = -0.308  b =  0.115\n",
            "Epochs =  300    Loss =  0.00000  w1 =  0.045  w2 = -0.308  b =  0.115\n",
            "Epochs =  400    Loss =  0.00000  w1 =  0.045  w2 = -0.308  b =  0.115\n",
            "Epochs =  500    Loss =  0.00000  w1 =  0.045  w2 = -0.308  b =  0.115\n",
            "Epochs =  600    Loss =  0.00000  w1 =  0.045  w2 = -0.308  b =  0.115\n",
            "Epochs =  700    Loss =  0.00000  w1 =  0.045  w2 = -0.308  b =  0.115\n",
            "Epochs =  800    Loss =  0.00000  w1 =  0.045  w2 = -0.308  b =  0.115\n",
            "Epochs =  900    Loss =  0.00000  w1 =  0.045  w2 = -0.308  b =  0.115\n",
            "Epochs = 1000    Loss =  0.00000  w1 =  0.045  w2 = -0.308  b =  0.115\n"
          ]
        }
      ],
      "source": [
        "p = Perceptron(nDim, activation=step)\n",
        "p.fit(X_tr, y_tr, nSamples, epochs=1000, eta=0.01)"
      ]
    },
    {
      "cell_type": "markdown",
      "id": "bada2a3b",
      "metadata": {
        "id": "bada2a3b"
      },
      "source": [
        "### 코드1-1[8] 특징 공간 결정 영역 시각화\n",
        "붓꽃 데이터 집합에서 꽃잎 길이 및 폭의 최댓값과 최솟값 범위의 영역이 학습된 퍼셉트론에 의해 어떻게 분할되는지 그래프로 보여준다."
      ]
    },
    {
      "cell_type": "code",
      "execution_count": null,
      "id": "0e914b9b",
      "metadata": {
        "id": "0e914b9b",
        "outputId": "3ccf6bb2-12a6-460e-cd39-94b8b9141692"
      },
      "outputs": [
        {
          "data": {
            "image/png": "[encoded data removed]",
            "text/plain": [
              "<Figure size 640x480 with 1 Axes>"
            ]
          },
          "metadata": {},
          "output_type": "display_data"
        }
      ],
      "source": [
        "# 학습표본의 순서를 섞거나 연결 가중치 및 바이어스 초깃값을 정할 때 무작위 수를 이용하고 있으며, 이에 따른 학습 결과는 일정하지 않다.\n",
        "visualize(p, X_tr, y_tr,\n",
        "          multi_class = False,\n",
        "          class_id = labels,\n",
        "          labels = [1, 0],\n",
        "          colors = ['magenta', 'blue'],\n",
        "          xlabel = 'petal length',\n",
        "          ylabel = 'petal width',\n",
        "          legend_loc = 'upper left')"
      ]
    },
    {
      "cell_type": "markdown",
      "id": "c4abb6ce",
      "metadata": {
        "id": "c4abb6ce"
      },
      "source": [
        "학습표본의 순서를 섞거나 연결 가중치 및 바이어스 초깃값을 정할 때 무작위 수를 이용하고 있으며, 이에 따른 학습 결과는 일정하지 않다."
      ]
    }
  ],
  "metadata": {
    "kernelspec": {
      "display_name": "Python 3 (ipykernel)",
      "language": "python",
      "name": "python3"
    },
    "language_info": {
      "codemirror_mode": {
        "name": "ipython",
        "version": 3
      },
      "file_extension": ".py",
      "mimetype": "text/x-python",
      "name": "python",
      "nbconvert_exporter": "python",
      "pygments_lexer": "ipython3",
      "version": "3.11.4"
    },
    "colab": {
      "provenance": [],
      "include_colab_link": true
    }
  },
  "nbformat": 4,
  "nbformat_minor": 5
}