{
  "nbformat": 4,
  "nbformat_minor": 0,
  "metadata": {
    "colab": {
      "provenance": [],
      "toc_visible": true,
      "authorship_tag": "ABX9TyN2witQsorhdh0CN++BAql4",
      "include_colab_link": true
    },
    "kernelspec": {
      "name": "python3",
      "display_name": "Python 3"
    },
    "language_info": {
      "name": "python"
    }
  },
  "cells": [
    {
      "cell_type": "markdown",
      "metadata": {
        "id": "view-in-github",
        "colab_type": "text"
      },
      "source": [
        "<a href=\"https://colab.research.google.com/github/shyoonCS/DataAnalysis/blob/main/%EB%94%A5%EB%9F%AC%EB%8B%9D_Perceptron_iris.ipynb\" target=\"_parent\"><img src=\"https://colab.research.google.com/assets/colab-badge.svg\" alt=\"Open In Colab\"/></a>"
      ]
    },
    {
      "cell_type": "markdown",
      "source": [
        "코드1-1[1] 필요한 패키지 불러오기"
      ],
      "metadata": {
        "id": "x2BIpG_S-_ed"
      }
    },
    {
      "cell_type": "code",
      "execution_count": 44,
      "metadata": {
        "id": "BgEUah4G8L2s"
      },
      "outputs": [],
      "source": [
        "import matplotlib.pyplot as plt\n",
        "import numpy as np\n",
        "from sklearn.datasets import load_iris"
      ]
    },
    {
      "cell_type": "markdown",
      "source": [
        "코드1-1[2] 데이터 준비 함수 정의하기"
      ],
      "metadata": {
        "id": "7VkvBObX_Gg6"
      }
    },
    {
      "cell_type": "code",
      "source": [
        "def prepare_data(target):\n",
        "    iris = load_iris()          # iris data set 읽기\n",
        "    X_tr = iris.data[:, 2:]     # 4개의 특징 중 꽃잎의 길이와 폭 선택(3번째, 4번째)\n",
        "    labels = iris.target_names  # 'setosa', 'versicolor', 'virginica'\n",
        "    y = iris.target\n",
        "\n",
        "    # 학습표본의 레이블 지정 - target에 지정된 레이블이면 1, 그 외는 0\n",
        "    y_tr = []\n",
        "    for i in range(150):\n",
        "        y_tr.append(labels[y[i]] == target)\n",
        "    y_tr = np.array(y_tr, dtype=int)\n",
        "    return X_tr, y_tr, ['(1) '+target, '(0) the others']"
      ],
      "metadata": {
        "id": "OD4BqrDL_Jil"
      },
      "execution_count": 53,
      "outputs": []
    },
    {
      "cell_type": "markdown",
      "source": [
        "코드1-1[3] 활성함수 - 단위 계단 함수"
      ],
      "metadata": {
        "id": "QYh_lLy5_Wmx"
      }
    },
    {
      "cell_type": "code",
      "source": [
        "# 활성 함수 - 단위 계단 함수\n",
        "def step(x):\n",
        "    return int(x >= 0)"
      ],
      "metadata": {
        "id": "7GUVIaTD_Vl2"
      },
      "execution_count": 46,
      "outputs": []
    },
    {
      "cell_type": "markdown",
      "source": [
        "코드1-1[4] 퍼셉트론 객체를 만들기 위한 클래스 선언하기"
      ],
      "metadata": {
        "id": "tJfw_T57A7X7"
      }
    },
    {
      "cell_type": "code",
      "source": [
        "class Perceptron():\n",
        "    def __init__(self, dim, activation):\n",
        "        rnd = np.random.default_rng()\n",
        "        self.dim = dim #입력층 입력의 수(특징 개수 -> 길이와 폭 2개)\n",
        "        self.activation = activation\n",
        "        # 가중치(w)와 바이어스(b)를 He normal 방식으로 초기화\n",
        "        self.w = rnd.normal(scale = np.sqrt(2.0 / dim), size=dim)\n",
        "        self.b = rnd.normal(scale = np.sqrt(2.0 / dim))\n",
        "\n",
        "    def printW(self):\n",
        "        for i in range(self.dim):\n",
        "            print('  w{} = {:6.3f}'.format(i+1, self.w[i]), end='')\n",
        "        print('  b = {:6.3f}'.format(self.b))\n",
        "\n",
        "    def predict(self, x):  # numpy 배열 x에 저장된 표본의 출력 계산\n",
        "        return np.array([self.activation(np.dot(self.w, x[i]) + self.b)\n",
        "                          for i in range(len(x))])\n",
        "\n",
        "    def fit(self, X, y, N, epochs, eta=0.01):\n",
        "        # 학습표본의 인덱스를 무작위 순서로 섞음\n",
        "        idx = list(range(N))\n",
        "        np.random.shuffle(idx)\n",
        "        X = np.array([X[idx[i]] for i in range(N)])\n",
        "        y = np.array([y[idx[i]] for i in range(N)])\n",
        "\n",
        "        f = 'Epochs = {:4d}    Loss = {:8.5f}'\n",
        "        print('w의 초깃값  ', end='')\n",
        "        self.printW()\n",
        "        for j in range(epochs):\n",
        "            for i in range(N):\n",
        "                # x[i]에 대한 출력 오차 계산\n",
        "                delta = self.predict([X[i]])[0] - y[i]\n",
        "                self.w -= eta * delta * X[i] #가중치 w 업데이트\n",
        "                self.b -= eta * delta        #바이어스 b 업데이트\n",
        "            # 학습 과정 출력\n",
        "            if j < 10 or (j+1) % 100 == 0:\n",
        "                loss = self.predict(X) - y\n",
        "                loss = (loss * loss).sum() / N #MSE 평균 제곱 오차 계산\n",
        "                print(f.format(j+1, loss), end='')\n",
        "                self.printW()"
      ],
      "metadata": {
        "id": "LfKcKLTm_mDl"
      },
      "execution_count": 47,
      "outputs": []
    },
    {
      "cell_type": "markdown",
      "source": [
        "코드1-1[5] 모델 시각화"
      ],
      "metadata": {
        "id": "8JEB3FtL_sLk"
      }
    },
    {
      "cell_type": "code",
      "source": [
        "def visualize(net, X, y, multi_class, labels, class_id, colors,xlabel, ylabel, legend_loc='lower right'):\n",
        "    # 데이터의 최소~최대 범위를 0.05 간격의 좌표값으로 나열\n",
        "    x_max = np.ceil(np.max(X[:, 0])).astype(int)\n",
        "    x_min = np.floor(np.min(X[:, 0])).astype(int)\n",
        "    y_max = np.ceil(np.max(X[:, 1])).astype(int)\n",
        "    y_min = np.floor(np.min(X[:, 1])).astype(int)\n",
        "    x_lin = np.linspace(x_min, x_max, (x_max-x_min)*20+1)\n",
        "    y_lin = np.linspace(y_min, y_max, (y_max-y_min)*20+1)\n",
        "\n",
        "    # x_lin과 y_lin의 격자좌표의 x와 y 값 구하기\n",
        "    x_mesh, y_mesh = np.meshgrid(x_lin, y_lin)\n",
        "\n",
        "    # (x, y) 좌표의 배열로 만들어 신경망의 입력 구성\n",
        "    X_test = np.column_stack([x_mesh.ravel(), y_mesh.ravel()])\n",
        "\n",
        "    # 학습된 신경망으로 X_test에 대한 출력 계산\n",
        "    if multi_class:\n",
        "        y_hat = net.predict(X_test)\n",
        "        y_hat = np.array([np.argmax(y_hat[k])\n",
        "                            for k in range(len(y_hat))], dtype=int)\n",
        "    else:\n",
        "        y_hat = (net.predict(X_test) >= 0.5).astype(int)\n",
        "        y_hat = y_hat.reshape(len(y_hat))\n",
        "\n",
        "    # 출력할 그래프의 수평/수직 범위 설정\n",
        "    plt.xlim(x_min, x_max)\n",
        "    plt.ylim(y_min, y_max)\n",
        "\n",
        "    # 클래스별로 산점도 그리기\n",
        "    for c, i, c_name in zip(colors, labels, class_id):\n",
        "        # 격자 좌표의 클래스별 산점도\n",
        "        plt.scatter(X_test[y_hat == i, 0], X_test[y_hat == i, 1],\n",
        "                     c = c, s = 5, alpha = 0.3, edgecolors = 'none')\n",
        "        # 학습 표본의 클래스별 산점도\n",
        "        plt.scatter(X[y == i, 0], X[y == i, 1],\n",
        "                     c = c, s = 20, label=c_name)\n",
        "    # 범례의 표시 위치 지정\n",
        "    plt.legend(loc=legend_loc)\n",
        "\n",
        "    # x축과 y축의 레이블을 지정한 후 그래프 출력\n",
        "    plt.xlabel(xlabel, size=12)\n",
        "    plt.ylabel(ylabel, size=12)\n",
        "    plt.show()"
      ],
      "metadata": {
        "id": "4RLzY-St_pBB"
      },
      "execution_count": 48,
      "outputs": []
    },
    {
      "cell_type": "markdown",
      "source": [
        "코드1-1[6] 훈련 데이터 준비하기"
      ],
      "metadata": {
        "id": "2FXaKhwG_yuu"
      }
    },
    {
      "cell_type": "code",
      "source": [
        "nSamples = 150\n",
        "nDim = 2 #꽃잎의 길이와 너비\n",
        "target = 'setosa' #식별하고자 하는 붓꽃 종류 지정\n",
        "X_tr, y_tr, labels = prepare_data(target)"
      ],
      "metadata": {
        "colab": {
          "base_uri": "https://localhost:8080/"
        },
        "id": "jv4QCTCuMaiX",
        "outputId": "55bb1ee3-ccd6-4a2c-e439-7ee7f7d6ccf4"
      },
      "execution_count": 62,
      "outputs": [
        {
          "output_type": "stream",
          "name": "stdout",
          "text": [
            "{'data': array([[5.1, 3.5, 1.4, 0.2],\n",
            "       [4.9, 3. , 1.4, 0.2],\n",
            "       [4.7, 3.2, 1.3, 0.2],\n",
            "       [4.6, 3.1, 1.5, 0.2],\n",
            "       [5. , 3.6, 1.4, 0.2],\n",
            "       [5.4, 3.9, 1.7, 0.4],\n",
            "       [4.6, 3.4, 1.4, 0.3],\n",
            "       [5. , 3.4, 1.5, 0.2],\n",
            "       [4.4, 2.9, 1.4, 0.2],\n",
            "       [4.9, 3.1, 1.5, 0.1],\n",
            "       [5.4, 3.7, 1.5, 0.2],\n",
            "       [4.8, 3.4, 1.6, 0.2],\n",
            "       [4.8, 3. , 1.4, 0.1],\n",
            "       [4.3, 3. , 1.1, 0.1],\n",
            "       [5.8, 4. , 1.2, 0.2],\n",
            "       [5.7, 4.4, 1.5, 0.4],\n",
            "       [5.4, 3.9, 1.3, 0.4],\n",
            "       [5.1, 3.5, 1.4, 0.3],\n",
            "       [5.7, 3.8, 1.7, 0.3],\n",
            "       [5.1, 3.8, 1.5, 0.3],\n",
            "       [5.4, 3.4, 1.7, 0.2],\n",
            "       [5.1, 3.7, 1.5, 0.4],\n",
            "       [4.6, 3.6, 1. , 0.2],\n",
            "       [5.1, 3.3, 1.7, 0.5],\n",
            "       [4.8, 3.4, 1.9, 0.2],\n",
            "       [5. , 3. , 1.6, 0.2],\n",
            "       [5. , 3.4, 1.6, 0.4],\n",
            "       [5.2, 3.5, 1.5, 0.2],\n",
            "       [5.2, 3.4, 1.4, 0.2],\n",
            "       [4.7, 3.2, 1.6, 0.2],\n",
            "       [4.8, 3.1, 1.6, 0.2],\n",
            "       [5.4, 3.4, 1.5, 0.4],\n",
            "       [5.2, 4.1, 1.5, 0.1],\n",
            "       [5.5, 4.2, 1.4, 0.2],\n",
            "       [4.9, 3.1, 1.5, 0.2],\n",
            "       [5. , 3.2, 1.2, 0.2],\n",
            "       [5.5, 3.5, 1.3, 0.2],\n",
            "       [4.9, 3.6, 1.4, 0.1],\n",
            "       [4.4, 3. , 1.3, 0.2],\n",
            "       [5.1, 3.4, 1.5, 0.2],\n",
            "       [5. , 3.5, 1.3, 0.3],\n",
            "       [4.5, 2.3, 1.3, 0.3],\n",
            "       [4.4, 3.2, 1.3, 0.2],\n",
            "       [5. , 3.5, 1.6, 0.6],\n",
            "       [5.1, 3.8, 1.9, 0.4],\n",
            "       [4.8, 3. , 1.4, 0.3],\n",
            "       [5.1, 3.8, 1.6, 0.2],\n",
            "       [4.6, 3.2, 1.4, 0.2],\n",
            "       [5.3, 3.7, 1.5, 0.2],\n",
            "       [5. , 3.3, 1.4, 0.2],\n",
            "       [7. , 3.2, 4.7, 1.4],\n",
            "       [6.4, 3.2, 4.5, 1.5],\n",
            "       [6.9, 3.1, 4.9, 1.5],\n",
            "       [5.5, 2.3, 4. , 1.3],\n",
            "       [6.5, 2.8, 4.6, 1.5],\n",
            "       [5.7, 2.8, 4.5, 1.3],\n",
            "       [6.3, 3.3, 4.7, 1.6],\n",
            "       [4.9, 2.4, 3.3, 1. ],\n",
            "       [6.6, 2.9, 4.6, 1.3],\n",
            "       [5.2, 2.7, 3.9, 1.4],\n",
            "       [5. , 2. , 3.5, 1. ],\n",
            "       [5.9, 3. , 4.2, 1.5],\n",
            "       [6. , 2.2, 4. , 1. ],\n",
            "       [6.1, 2.9, 4.7, 1.4],\n",
            "       [5.6, 2.9, 3.6, 1.3],\n",
            "       [6.7, 3.1, 4.4, 1.4],\n",
            "       [5.6, 3. , 4.5, 1.5],\n",
            "       [5.8, 2.7, 4.1, 1. ],\n",
            "       [6.2, 2.2, 4.5, 1.5],\n",
            "       [5.6, 2.5, 3.9, 1.1],\n",
            "       [5.9, 3.2, 4.8, 1.8],\n",
            "       [6.1, 2.8, 4. , 1.3],\n",
            "       [6.3, 2.5, 4.9, 1.5],\n",
            "       [6.1, 2.8, 4.7, 1.2],\n",
            "       [6.4, 2.9, 4.3, 1.3],\n",
            "       [6.6, 3. , 4.4, 1.4],\n",
            "       [6.8, 2.8, 4.8, 1.4],\n",
            "       [6.7, 3. , 5. , 1.7],\n",
            "       [6. , 2.9, 4.5, 1.5],\n",
            "       [5.7, 2.6, 3.5, 1. ],\n",
            "       [5.5, 2.4, 3.8, 1.1],\n",
            "       [5.5, 2.4, 3.7, 1. ],\n",
            "       [5.8, 2.7, 3.9, 1.2],\n",
            "       [6. , 2.7, 5.1, 1.6],\n",
            "       [5.4, 3. , 4.5, 1.5],\n",
            "       [6. , 3.4, 4.5, 1.6],\n",
            "       [6.7, 3.1, 4.7, 1.5],\n",
            "       [6.3, 2.3, 4.4, 1.3],\n",
            "       [5.6, 3. , 4.1, 1.3],\n",
            "       [5.5, 2.5, 4. , 1.3],\n",
            "       [5.5, 2.6, 4.4, 1.2],\n",
            "       [6.1, 3. , 4.6, 1.4],\n",
            "       [5.8, 2.6, 4. , 1.2],\n",
            "       [5. , 2.3, 3.3, 1. ],\n",
            "       [5.6, 2.7, 4.2, 1.3],\n",
            "       [5.7, 3. , 4.2, 1.2],\n",
            "       [5.7, 2.9, 4.2, 1.3],\n",
            "       [6.2, 2.9, 4.3, 1.3],\n",
            "       [5.1, 2.5, 3. , 1.1],\n",
            "       [5.7, 2.8, 4.1, 1.3],\n",
            "       [6.3, 3.3, 6. , 2.5],\n",
            "       [5.8, 2.7, 5.1, 1.9],\n",
            "       [7.1, 3. , 5.9, 2.1],\n",
            "       [6.3, 2.9, 5.6, 1.8],\n",
            "       [6.5, 3. , 5.8, 2.2],\n",
            "       [7.6, 3. , 6.6, 2.1],\n",
            "       [4.9, 2.5, 4.5, 1.7],\n",
            "       [7.3, 2.9, 6.3, 1.8],\n",
            "       [6.7, 2.5, 5.8, 1.8],\n",
            "       [7.2, 3.6, 6.1, 2.5],\n",
            "       [6.5, 3.2, 5.1, 2. ],\n",
            "       [6.4, 2.7, 5.3, 1.9],\n",
            "       [6.8, 3. , 5.5, 2.1],\n",
            "       [5.7, 2.5, 5. , 2. ],\n",
            "       [5.8, 2.8, 5.1, 2.4],\n",
            "       [6.4, 3.2, 5.3, 2.3],\n",
            "       [6.5, 3. , 5.5, 1.8],\n",
            "       [7.7, 3.8, 6.7, 2.2],\n",
            "       [7.7, 2.6, 6.9, 2.3],\n",
            "       [6. , 2.2, 5. , 1.5],\n",
            "       [6.9, 3.2, 5.7, 2.3],\n",
            "       [5.6, 2.8, 4.9, 2. ],\n",
            "       [7.7, 2.8, 6.7, 2. ],\n",
            "       [6.3, 2.7, 4.9, 1.8],\n",
            "       [6.7, 3.3, 5.7, 2.1],\n",
            "       [7.2, 3.2, 6. , 1.8],\n",
            "       [6.2, 2.8, 4.8, 1.8],\n",
            "       [6.1, 3. , 4.9, 1.8],\n",
            "       [6.4, 2.8, 5.6, 2.1],\n",
            "       [7.2, 3. , 5.8, 1.6],\n",
            "       [7.4, 2.8, 6.1, 1.9],\n",
            "       [7.9, 3.8, 6.4, 2. ],\n",
            "       [6.4, 2.8, 5.6, 2.2],\n",
            "       [6.3, 2.8, 5.1, 1.5],\n",
            "       [6.1, 2.6, 5.6, 1.4],\n",
            "       [7.7, 3. , 6.1, 2.3],\n",
            "       [6.3, 3.4, 5.6, 2.4],\n",
            "       [6.4, 3.1, 5.5, 1.8],\n",
            "       [6. , 3. , 4.8, 1.8],\n",
            "       [6.9, 3.1, 5.4, 2.1],\n",
            "       [6.7, 3.1, 5.6, 2.4],\n",
            "       [6.9, 3.1, 5.1, 2.3],\n",
            "       [5.8, 2.7, 5.1, 1.9],\n",
            "       [6.8, 3.2, 5.9, 2.3],\n",
            "       [6.7, 3.3, 5.7, 2.5],\n",
            "       [6.7, 3. , 5.2, 2.3],\n",
            "       [6.3, 2.5, 5. , 1.9],\n",
            "       [6.5, 3. , 5.2, 2. ],\n",
            "       [6.2, 3.4, 5.4, 2.3],\n",
            "       [5.9, 3. , 5.1, 1.8]]), 'target': array([0, 0, 0, 0, 0, 0, 0, 0, 0, 0, 0, 0, 0, 0, 0, 0, 0, 0, 0, 0, 0, 0,\n",
            "       0, 0, 0, 0, 0, 0, 0, 0, 0, 0, 0, 0, 0, 0, 0, 0, 0, 0, 0, 0, 0, 0,\n",
            "       0, 0, 0, 0, 0, 0, 1, 1, 1, 1, 1, 1, 1, 1, 1, 1, 1, 1, 1, 1, 1, 1,\n",
            "       1, 1, 1, 1, 1, 1, 1, 1, 1, 1, 1, 1, 1, 1, 1, 1, 1, 1, 1, 1, 1, 1,\n",
            "       1, 1, 1, 1, 1, 1, 1, 1, 1, 1, 1, 1, 2, 2, 2, 2, 2, 2, 2, 2, 2, 2,\n",
            "       2, 2, 2, 2, 2, 2, 2, 2, 2, 2, 2, 2, 2, 2, 2, 2, 2, 2, 2, 2, 2, 2,\n",
            "       2, 2, 2, 2, 2, 2, 2, 2, 2, 2, 2, 2, 2, 2, 2, 2, 2, 2]), 'frame': None, 'target_names': array(['setosa', 'versicolor', 'virginica'], dtype='<U10'), 'DESCR': '.. _iris_dataset:\\n\\nIris plants dataset\\n--------------------\\n\\n**Data Set Characteristics:**\\n\\n:Number of Instances: 150 (50 in each of three classes)\\n:Number of Attributes: 4 numeric, predictive attributes and the class\\n:Attribute Information:\\n    - sepal length in cm\\n    - sepal width in cm\\n    - petal length in cm\\n    - petal width in cm\\n    - class:\\n            - Iris-Setosa\\n            - Iris-Versicolour\\n            - Iris-Virginica\\n\\n:Summary Statistics:\\n\\n============== ==== ==== ======= ===== ====================\\n                Min  Max   Mean    SD   Class Correlation\\n============== ==== ==== ======= ===== ====================\\nsepal length:   4.3  7.9   5.84   0.83    0.7826\\nsepal width:    2.0  4.4   3.05   0.43   -0.4194\\npetal length:   1.0  6.9   3.76   1.76    0.9490  (high!)\\npetal width:    0.1  2.5   1.20   0.76    0.9565  (high!)\\n============== ==== ==== ======= ===== ====================\\n\\n:Missing Attribute Values: None\\n:Class Distribution: 33.3% for each of 3 classes.\\n:Creator: R.A. Fisher\\n:Donor: Michael Marshall (MARSHALL%PLU@io.arc.nasa.gov)\\n:Date: July, 1988\\n\\nThe famous Iris database, first used by Sir R.A. Fisher. The dataset is taken\\nfrom Fisher\\'s paper. Note that it\\'s the same as in R, but not as in the UCI\\nMachine Learning Repository, which has two wrong data points.\\n\\nThis is perhaps the best known database to be found in the\\npattern recognition literature.  Fisher\\'s paper is a classic in the field and\\nis referenced frequently to this day.  (See Duda & Hart, for example.)  The\\ndata set contains 3 classes of 50 instances each, where each class refers to a\\ntype of iris plant.  One class is linearly separable from the other 2; the\\nlatter are NOT linearly separable from each other.\\n\\n.. dropdown:: References\\n\\n  - Fisher, R.A. \"The use of multiple measurements in taxonomic problems\"\\n    Annual Eugenics, 7, Part II, 179-188 (1936); also in \"Contributions to\\n    Mathematical Statistics\" (John Wiley, NY, 1950).\\n  - Duda, R.O., & Hart, P.E. (1973) Pattern Classification and Scene Analysis.\\n    (Q327.D83) John Wiley & Sons.  ISBN 0-471-22361-1.  See page 218.\\n  - Dasarathy, B.V. (1980) \"Nosing Around the Neighborhood: A New System\\n    Structure and Classification Rule for Recognition in Partially Exposed\\n    Environments\".  IEEE Transactions on Pattern Analysis and Machine\\n    Intelligence, Vol. PAMI-2, No. 1, 67-71.\\n  - Gates, G.W. (1972) \"The Reduced Nearest Neighbor Rule\".  IEEE Transactions\\n    on Information Theory, May 1972, 431-433.\\n  - See also: 1988 MLC Proceedings, 54-64.  Cheeseman et al\"s AUTOCLASS II\\n    conceptual clustering system finds 3 classes in the data.\\n  - Many, many more ...\\n', 'feature_names': ['sepal length (cm)', 'sepal width (cm)', 'petal length (cm)', 'petal width (cm)'], 'filename': 'iris.csv', 'data_module': 'sklearn.datasets.data'}\n"
          ]
        }
      ]
    },
    {
      "cell_type": "markdown",
      "source": [
        "코드1-1[7] 퍼셉트론 객체 생성 및 학습"
      ],
      "metadata": {
        "id": "OAnzI412ADxi"
      }
    },
    {
      "cell_type": "code",
      "source": [
        "p = Perceptron(nDim, activation=step)\n",
        "p.fit(X_tr, y_tr, nSamples, epochs=1000, eta=0.01)"
      ],
      "metadata": {
        "colab": {
          "base_uri": "https://localhost:8080/"
        },
        "id": "Bn08vX9H_28a",
        "outputId": "803814a5-791e-463f-934d-7b9192dcbb31"
      },
      "execution_count": 50,
      "outputs": [
        {
          "output_type": "stream",
          "name": "stdout",
          "text": [
            "w의 초깃값    w1 = -1.834  w2 = -0.741  b =  1.720\n",
            "Epochs =    1    Loss =  0.05333  w1 = -1.235  w2 = -0.638  b =  2.120\n",
            "Epochs =    2    Loss =  0.02000  w1 = -1.130  w2 = -0.614  b =  2.180\n",
            "Epochs =    3    Loss =  0.00667  w1 = -1.092  w2 = -0.608  b =  2.200\n",
            "Epochs =    4    Loss =  0.00667  w1 = -1.073  w2 = -0.604  b =  2.210\n",
            "Epochs =    5    Loss =  0.00667  w1 = -1.054  w2 = -0.600  b =  2.220\n",
            "Epochs =    6    Loss =  0.00000  w1 = -1.035  w2 = -0.596  b =  2.230\n",
            "Epochs =    7    Loss =  0.00000  w1 = -1.035  w2 = -0.596  b =  2.230\n",
            "Epochs =    8    Loss =  0.00000  w1 = -1.035  w2 = -0.596  b =  2.230\n",
            "Epochs =    9    Loss =  0.00000  w1 = -1.035  w2 = -0.596  b =  2.230\n",
            "Epochs =   10    Loss =  0.00000  w1 = -1.035  w2 = -0.596  b =  2.230\n",
            "Epochs =  100    Loss =  0.00000  w1 = -1.035  w2 = -0.596  b =  2.230\n",
            "Epochs =  200    Loss =  0.00000  w1 = -1.035  w2 = -0.596  b =  2.230\n",
            "Epochs =  300    Loss =  0.00000  w1 = -1.035  w2 = -0.596  b =  2.230\n",
            "Epochs =  400    Loss =  0.00000  w1 = -1.035  w2 = -0.596  b =  2.230\n",
            "Epochs =  500    Loss =  0.00000  w1 = -1.035  w2 = -0.596  b =  2.230\n",
            "Epochs =  600    Loss =  0.00000  w1 = -1.035  w2 = -0.596  b =  2.230\n",
            "Epochs =  700    Loss =  0.00000  w1 = -1.035  w2 = -0.596  b =  2.230\n",
            "Epochs =  800    Loss =  0.00000  w1 = -1.035  w2 = -0.596  b =  2.230\n",
            "Epochs =  900    Loss =  0.00000  w1 = -1.035  w2 = -0.596  b =  2.230\n",
            "Epochs = 1000    Loss =  0.00000  w1 = -1.035  w2 = -0.596  b =  2.230\n"
          ]
        }
      ]
    },
    {
      "cell_type": "markdown",
      "source": [
        "코드1-1[8] 특징 공간 결정 영역 시각화"
      ],
      "metadata": {
        "id": "nqVd6kNDAG_T"
      }
    },
    {
      "cell_type": "code",
      "source": [
        "# 학습표본의 순서를 섞거나 연결 가중치 및 바이어스 초깃값을 정할 때 무작위 수를 이용하고 있으며, 이에 따른 학습 결과는 일정하지 않다.\n",
        "visualize(p, X_tr, y_tr,\n",
        "          multi_class = False,\n",
        "          class_id = labels,\n",
        "          labels = [1, 0],\n",
        "          colors = ['magenta', 'blue'],\n",
        "          xlabel = 'petal length',\n",
        "          ylabel = 'petal width',\n",
        "          legend_loc = 'upper left')"
      ],
      "metadata": {
        "colab": {
          "base_uri": "https://localhost:8080/",
          "height": 459
        },
        "id": "4Opu17OyAJqC",
        "outputId": "a88d9090-d0ab-4b49-bb83-82c777fd98e5"
      },
      "execution_count": 51,
      "outputs": [
        {
          "output_type": "display_data",
          "data": {
            "text/plain": [
              "<Figure size 640x480 with 1 Axes>"
            ],
            "image/png": "[encoded data removed]"
          },
          "metadata": {}
        }
      ]
    },
    {
      "cell_type": "markdown",
      "source": [
        "주관식 1."
      ],
      "metadata": {
        "id": "c_dKrZ9-TOd6"
      }
    },
    {
      "cell_type": "code",
      "source": [
        "#def prepar_data1(N)\n",
        "c = np.array([[1,2],[2,1]])\n",
        "X = []\n",
        "y = []\n",
        "rnd = np.random.default_rng()\n",
        "# 각 클래스의 평균 좌표에 무작위 값 더하여 학습표본 집합 생성\n",
        "for i in range(N)"
      ],
      "metadata": {
        "colab": {
          "base_uri": "https://localhost:8080/"
        },
        "id": "5ioTofFHTNMU",
        "outputId": "c0387234-2454-4fde-dbcc-45694caed1a8"
      },
      "execution_count": 63,
      "outputs": [
        {
          "output_type": "execute_result",
          "data": {
            "text/plain": [
              "Generator(PCG64) at 0x78294A533300"
            ]
          },
          "metadata": {},
          "execution_count": 63
        }
      ]
    }
  ]
}