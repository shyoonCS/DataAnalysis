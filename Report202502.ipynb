{
  "nbformat": 4,
  "nbformat_minor": 0,
  "metadata": {
    "colab": {
      "provenance": [],
      "authorship_tag": "ABX9TyNyatt0IwiTd5VrGAzUJMJF",
      "include_colab_link": true
    },
    "kernelspec": {
      "name": "python3",
      "display_name": "Python 3"
    },
    "language_info": {
      "name": "python"
    }
  },
  "cells": [
    {
      "cell_type": "markdown",
      "metadata": {
        "id": "view-in-github",
        "colab_type": "text"
      },
      "source": [
        "<a href=\"https://colab.research.google.com/github/shyoonCS/DataAnalysis/blob/main/Report202502.ipynb\" target=\"_parent\"><img src=\"https://colab.research.google.com/assets/colab-badge.svg\" alt=\"Open In Colab\"/></a>"
      ]
    },
    {
      "cell_type": "markdown",
      "source": [
        "과제 1-2. API 호출코드 작성"
      ],
      "metadata": {
        "id": "zu0InflIAqqW"
      }
    },
    {
      "cell_type": "code",
      "source": [
        "import requests\n",
        "import pandas as pd\n",
        "\n",
        "url = \"http://openapi.seoul.go.kr:8088/4446516e7973687936367073734f62/json/energyUseDataSummaryInfo/1/5\"\n",
        "api_key = '4446516e7973687936367073734f62'\n",
        "year_from = 2015\n",
        "year_to = 2024\n",
        "\n",
        "params = {\n",
        "    'KEY': api_key,\n",
        "    'TYPE': 'json',\n",
        "    'SERVICE': 'energyUseDataSummaryInfo',\n",
        "    'START_INDEX': '1',\n",
        "    'END_INDEX': '9999',\n",
        "    'YEAR': '2024',\n",
        "    'MON': '12'\n",
        "}\n",
        "\n",
        "## 년도 생성\n",
        "def get_year_months():\n",
        "  year_months = []\n",
        "  for year in range(year_from, year_to+1):\n",
        "    for month in range(1,12+1):\n",
        "      year_months.append((f'{year}', f'{month:02d}'))\n",
        "  return year_months\n",
        "\n",
        "data = []\n",
        "# URL 생성\n",
        "for year_month in get_year_months() :\n",
        "  url2 = url + '/' + year_month[0] + '/' + year_month[1]\n",
        "  #print(url2)\n",
        "\n",
        "  ## 데이터 수집\n",
        "  response = requests.get(url2, params=params)\n",
        "  data = data + response.json()['energyUseDataSummaryInfo']['row']\n",
        "\n",
        "## 호출 성공/실패 출력\n",
        "#print(data)\n",
        "\n",
        "df = pd.DataFrame(data)\n",
        "df.to_csv('data.csv', index=False, encoding='utf-8')\n",
        "df.to_excel('data.xlsx', index=False)"
      ],
      "metadata": {
        "id": "pmIk9FL3A4hs"
      },
      "execution_count": 55,
      "outputs": []
    }
  ]
}