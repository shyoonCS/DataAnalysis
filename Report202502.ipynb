{
  "nbformat": 4,
  "nbformat_minor": 0,
  "metadata": {
    "colab": {
      "provenance": [],
      "authorship_tag": "ABX9TyOj/DphdUhbbUqBQ9ILwQm5",
      "include_colab_link": true
    },
    "kernelspec": {
      "name": "python3",
      "display_name": "Python 3"
    },
    "language_info": {
      "name": "python"
    }
  },
  "cells": [
    {
      "cell_type": "markdown",
      "metadata": {
        "id": "view-in-github",
        "colab_type": "text"
      },
      "source": [
        "<a href=\"https://colab.research.google.com/github/shyoonCS/DataAnalysis/blob/main/Report202502.ipynb\" target=\"_parent\"><img src=\"https://colab.research.google.com/assets/colab-badge.svg\" alt=\"Open In Colab\"/></a>"
      ]
    },
    {
      "cell_type": "markdown",
      "source": [
        "문제 1-2. API 호출코드 작성"
      ],
      "metadata": {
        "id": "zu0InflIAqqW"
      }
    },
    {
      "cell_type": "code",
      "source": [
        "import requests\n",
        "import pandas as pd\n",
        "\n",
        "url = \"http://openapi.seoul.go.kr:8088/4446516e7973687936367073734f62/json/energyUseDataSummaryInfo/1/5\"\n",
        "api_key = '4446516e7973687936367073734f62'\n",
        "year_from = 2015\n",
        "year_to = 2024\n",
        "\n",
        "params = {\n",
        "    'KEY': api_key,\n",
        "    'TYPE': 'json',\n",
        "    'SERVICE': 'energyUseDataSummaryInfo',\n",
        "    'START_INDEX': '1',\n",
        "    'END_INDEX': '9999',\n",
        "    'YEAR': '2024',\n",
        "    'MON': '12'\n",
        "}\n",
        "\n",
        "## 년도 생성\n",
        "def get_year_months():\n",
        "  year_months = []\n",
        "  for year in range(year_from, year_to+1):\n",
        "    for month in range(1,12+1):\n",
        "      year_months.append((f'{year}', f'{month:02d}'))\n",
        "  return year_months\n",
        "\n",
        "data = []\n",
        "cnt_req = 0\n",
        "cnt_ok = 0\n",
        "cnt_fail = 0\n",
        "for year_month in get_year_months() :\n",
        "  # URL 생성\n",
        "  url_ym = url + '/' + year_month[0] + '/' + year_month[1]\n",
        "\n",
        "  ## API 호출 &  데이터 수집\n",
        "  response = requests.get(url_ym, params=params)\n",
        "  cnt_req = cnt_req + 1\n",
        "  if response.status_code == 200:\n",
        "    cnt_ok = cnt_ok + 1\n",
        "    data = data + response.json()['energyUseDataSummaryInfo']['row']\n",
        "  else:\n",
        "    cnt_fail = cnt_fail + 1\n",
        "\n",
        "## 호출 결과 출력\n",
        "print(f\"API 결과 : 호출 횟수 : {cnt_req}, 성공 횟수 : {cnt_ok}, 실패 횟수 : {cnt_fail}, 상태코드 : {response.status_code}\")"
      ],
      "metadata": {
        "id": "pmIk9FL3A4hs",
        "colab": {
          "base_uri": "https://localhost:8080/"
        },
        "outputId": "244079e9-cd81-4df4-f5e0-f44a02619f63"
      },
      "execution_count": 2,
      "outputs": [
        {
          "output_type": "stream",
          "name": "stdout",
          "text": [
            "API 결과 : 호출 횟수 : 120, 성공 횟수 : 120, 실패 횟수 : 0, 상태코드 : 200\n"
          ]
        }
      ]
    },
    {
      "cell_type": "markdown",
      "source": [
        "문제 2-1. DataFrame으로 변환하고, 데이터의 기본 정보를 출력"
      ],
      "metadata": {
        "id": "gNcI-a85zitj"
      }
    },
    {
      "cell_type": "code",
      "source": [
        "## 호출 결과 출력\n",
        "df = pd.DataFrame(data)\n",
        "#df.to_csv('data.csv', index=False, encoding='utf-8')\n",
        "#df.to_excel('data.xlsx', index=False)\n",
        "#df.describe()\n",
        "#df.info()\n",
        "df.head()"
      ],
      "metadata": {
        "colab": {
          "base_uri": "https://localhost:8080/",
          "height": 429
        },
        "id": "UiCYAkok0Loj",
        "outputId": "563b289b-48c0-495f-de21-c707f3353386"
      },
      "execution_count": 3,
      "outputs": [
        {
          "output_type": "execute_result",
          "data": {
            "text/plain": [
              "   YEAR MON  MM_TYPE     CNT        EUS       EUS1       EUS2     ECO2_1  \\\n",
              "0  2015  01       개인  767791  193784708  194781915  204969429   -6090964   \n",
              "1  2015  01       학교    1382  134955565  128707423  145561511   -2178902   \n",
              "2  2015  01     종교단체      32     372270     363376     411363   -15099.5   \n",
              "3  2015  01     소상공인    2058   10249618    9927610   11039593  -233983.5   \n",
              "4  2015  01  공동주택관리소    1747  327102096  329852334  351694752  -13671447   \n",
              "\n",
              "         ECO2_2       GUS  ...          WUS1         WUS2    WCO2_1  \\\n",
              "0  -2582568.736  59133720  ...  12723680.426  12899476.73  8179.308   \n",
              "1   -923854.448   9107197  ...     2097433.8    2133200.8  -39498.1   \n",
              "2     -6402.188     53331  ...          4548         4519    1411.5   \n",
              "3    -99209.004    536119  ...      146480.6     147325.6     369.9   \n",
              "4  -5796693.528  22834274  ...      12763070   12979835.8  -26645.4   \n",
              "\n",
              "        WCO2_2           HUS          HUS1          HUS2        HCO2_1  \\\n",
              "0  2715.530256  22740838.937  23400055.303  27090493.875  -2504435.652   \n",
              "1  -13113.3692             0             0             0             0   \n",
              "2      468.618             0             0             0             0   \n",
              "3     122.8068             0             0             0             0   \n",
              "4   -8846.2728             0             0             0             0   \n",
              "\n",
              "             HCO2_2               REG_DATE  \n",
              "0  -33660084.213069  2015-06-04 17:03:55.0  \n",
              "1                 0  2015-06-04 17:03:55.0  \n",
              "2                 0  2015-06-04 17:03:55.0  \n",
              "3                 0  2015-06-04 17:03:55.0  \n",
              "4                 0  2015-06-04 17:03:55.0  \n",
              "\n",
              "[5 rows x 25 columns]"
            ],
            "text/html": [
              "\n",
              "  <div id=\"df-706e2259-bbf2-4a05-869f-677a5bd8408f\" class=\"colab-df-container\">\n",
              "    <div>\n",
              "<style scoped>\n",
              "    .dataframe tbody tr th:only-of-type {\n",
              "        vertical-align: middle;\n",
              "    }\n",
              "\n",
              "    .dataframe tbody tr th {\n",
              "        vertical-align: top;\n",
              "    }\n",
              "\n",
              "    .dataframe thead th {\n",
              "        text-align: right;\n",
              "    }\n",
              "</style>\n",
              "<table border=\"1\" class=\"dataframe\">\n",
              "  <thead>\n",
              "    <tr style=\"text-align: right;\">\n",
              "      <th></th>\n",
              "      <th>YEAR</th>\n",
              "      <th>MON</th>\n",
              "      <th>MM_TYPE</th>\n",
              "      <th>CNT</th>\n",
              "      <th>EUS</th>\n",
              "      <th>EUS1</th>\n",
              "      <th>EUS2</th>\n",
              "      <th>ECO2_1</th>\n",
              "      <th>ECO2_2</th>\n",
              "      <th>GUS</th>\n",
              "      <th>...</th>\n",
              "      <th>WUS1</th>\n",
              "      <th>WUS2</th>\n",
              "      <th>WCO2_1</th>\n",
              "      <th>WCO2_2</th>\n",
              "      <th>HUS</th>\n",
              "      <th>HUS1</th>\n",
              "      <th>HUS2</th>\n",
              "      <th>HCO2_1</th>\n",
              "      <th>HCO2_2</th>\n",
              "      <th>REG_DATE</th>\n",
              "    </tr>\n",
              "  </thead>\n",
              "  <tbody>\n",
              "    <tr>\n",
              "      <th>0</th>\n",
              "      <td>2015</td>\n",
              "      <td>01</td>\n",
              "      <td>개인</td>\n",
              "      <td>767791</td>\n",
              "      <td>193784708</td>\n",
              "      <td>194781915</td>\n",
              "      <td>204969429</td>\n",
              "      <td>-6090964</td>\n",
              "      <td>-2582568.736</td>\n",
              "      <td>59133720</td>\n",
              "      <td>...</td>\n",
              "      <td>12723680.426</td>\n",
              "      <td>12899476.73</td>\n",
              "      <td>8179.308</td>\n",
              "      <td>2715.530256</td>\n",
              "      <td>22740838.937</td>\n",
              "      <td>23400055.303</td>\n",
              "      <td>27090493.875</td>\n",
              "      <td>-2504435.652</td>\n",
              "      <td>-33660084.213069</td>\n",
              "      <td>2015-06-04 17:03:55.0</td>\n",
              "    </tr>\n",
              "    <tr>\n",
              "      <th>1</th>\n",
              "      <td>2015</td>\n",
              "      <td>01</td>\n",
              "      <td>학교</td>\n",
              "      <td>1382</td>\n",
              "      <td>134955565</td>\n",
              "      <td>128707423</td>\n",
              "      <td>145561511</td>\n",
              "      <td>-2178902</td>\n",
              "      <td>-923854.448</td>\n",
              "      <td>9107197</td>\n",
              "      <td>...</td>\n",
              "      <td>2097433.8</td>\n",
              "      <td>2133200.8</td>\n",
              "      <td>-39498.1</td>\n",
              "      <td>-13113.3692</td>\n",
              "      <td>0</td>\n",
              "      <td>0</td>\n",
              "      <td>0</td>\n",
              "      <td>0</td>\n",
              "      <td>0</td>\n",
              "      <td>2015-06-04 17:03:55.0</td>\n",
              "    </tr>\n",
              "    <tr>\n",
              "      <th>2</th>\n",
              "      <td>2015</td>\n",
              "      <td>01</td>\n",
              "      <td>종교단체</td>\n",
              "      <td>32</td>\n",
              "      <td>372270</td>\n",
              "      <td>363376</td>\n",
              "      <td>411363</td>\n",
              "      <td>-15099.5</td>\n",
              "      <td>-6402.188</td>\n",
              "      <td>53331</td>\n",
              "      <td>...</td>\n",
              "      <td>4548</td>\n",
              "      <td>4519</td>\n",
              "      <td>1411.5</td>\n",
              "      <td>468.618</td>\n",
              "      <td>0</td>\n",
              "      <td>0</td>\n",
              "      <td>0</td>\n",
              "      <td>0</td>\n",
              "      <td>0</td>\n",
              "      <td>2015-06-04 17:03:55.0</td>\n",
              "    </tr>\n",
              "    <tr>\n",
              "      <th>3</th>\n",
              "      <td>2015</td>\n",
              "      <td>01</td>\n",
              "      <td>소상공인</td>\n",
              "      <td>2058</td>\n",
              "      <td>10249618</td>\n",
              "      <td>9927610</td>\n",
              "      <td>11039593</td>\n",
              "      <td>-233983.5</td>\n",
              "      <td>-99209.004</td>\n",
              "      <td>536119</td>\n",
              "      <td>...</td>\n",
              "      <td>146480.6</td>\n",
              "      <td>147325.6</td>\n",
              "      <td>369.9</td>\n",
              "      <td>122.8068</td>\n",
              "      <td>0</td>\n",
              "      <td>0</td>\n",
              "      <td>0</td>\n",
              "      <td>0</td>\n",
              "      <td>0</td>\n",
              "      <td>2015-06-04 17:03:55.0</td>\n",
              "    </tr>\n",
              "    <tr>\n",
              "      <th>4</th>\n",
              "      <td>2015</td>\n",
              "      <td>01</td>\n",
              "      <td>공동주택관리소</td>\n",
              "      <td>1747</td>\n",
              "      <td>327102096</td>\n",
              "      <td>329852334</td>\n",
              "      <td>351694752</td>\n",
              "      <td>-13671447</td>\n",
              "      <td>-5796693.528</td>\n",
              "      <td>22834274</td>\n",
              "      <td>...</td>\n",
              "      <td>12763070</td>\n",
              "      <td>12979835.8</td>\n",
              "      <td>-26645.4</td>\n",
              "      <td>-8846.2728</td>\n",
              "      <td>0</td>\n",
              "      <td>0</td>\n",
              "      <td>0</td>\n",
              "      <td>0</td>\n",
              "      <td>0</td>\n",
              "      <td>2015-06-04 17:03:55.0</td>\n",
              "    </tr>\n",
              "  </tbody>\n",
              "</table>\n",
              "<p>5 rows × 25 columns</p>\n",
              "</div>\n",
              "    <div class=\"colab-df-buttons\">\n",
              "      \n",
              "  <div class=\"colab-df-container\">\n",
              "    <button class=\"colab-df-convert\" onclick=\"convertToInteractive('df-706e2259-bbf2-4a05-869f-677a5bd8408f')\"\n",
              "            title=\"Convert this dataframe to an interactive table.\"\n",
              "            style=\"display:none;\">\n",
              "      \n",
              "  <svg xmlns=\"http://www.w3.org/2000/svg\" height=\"24px\" viewBox=\"0 -960 960 960\">\n",
              "    <path d=\"M120-120v-720h720v720H120Zm60-500h600v-160H180v160Zm220 220h160v-160H400v160Zm0 220h160v-160H400v160ZM180-400h160v-160H180v160Zm440 0h160v-160H620v160ZM180-180h160v-160H180v160Zm440 0h160v-160H620v160Z\"/>\n",
              "  </svg>\n",
              "    </button>\n",
              "    \n",
              "  <style>\n",
              "    .colab-df-container {\n",
              "      display:flex;\n",
              "      gap: 12px;\n",
              "    }\n",
              "\n",
              "    .colab-df-convert {\n",
              "      background-color: #E8F0FE;\n",
              "      border: none;\n",
              "      border-radius: 50%;\n",
              "      cursor: pointer;\n",
              "      display: none;\n",
              "      fill: #1967D2;\n",
              "      height: 32px;\n",
              "      padding: 0 0 0 0;\n",
              "      width: 32px;\n",
              "    }\n",
              "\n",
              "    .colab-df-convert:hover {\n",
              "      background-color: #E2EBFA;\n",
              "      box-shadow: 0px 1px 2px rgba(60, 64, 67, 0.3), 0px 1px 3px 1px rgba(60, 64, 67, 0.15);\n",
              "      fill: #174EA6;\n",
              "    }\n",
              "\n",
              "    .colab-df-buttons div {\n",
              "      margin-bottom: 4px;\n",
              "    }\n",
              "\n",
              "    [theme=dark] .colab-df-convert {\n",
              "      background-color: #3B4455;\n",
              "      fill: #D2E3FC;\n",
              "    }\n",
              "\n",
              "    [theme=dark] .colab-df-convert:hover {\n",
              "      background-color: #434B5C;\n",
              "      box-shadow: 0px 1px 3px 1px rgba(0, 0, 0, 0.15);\n",
              "      filter: drop-shadow(0px 1px 2px rgba(0, 0, 0, 0.3));\n",
              "      fill: #FFFFFF;\n",
              "    }\n",
              "  </style>\n",
              "\n",
              "    <script>\n",
              "      const buttonEl =\n",
              "        document.querySelector('#df-706e2259-bbf2-4a05-869f-677a5bd8408f button.colab-df-convert');\n",
              "      buttonEl.style.display =\n",
              "        google.colab.kernel.accessAllowed ? 'block' : 'none';\n",
              "\n",
              "      async function convertToInteractive(key) {\n",
              "        const element = document.querySelector('#df-706e2259-bbf2-4a05-869f-677a5bd8408f');\n",
              "        const dataTable =\n",
              "          await google.colab.kernel.invokeFunction('convertToInteractive',\n",
              "                                                    [key], {});\n",
              "        if (!dataTable) return;\n",
              "\n",
              "        const docLinkHtml = 'Like what you see? Visit the ' +\n",
              "          '<a target=\"_blank\" href=https://colab.research.google.com/notebooks/data_table.ipynb>data table notebook</a>'\n",
              "          + ' to learn more about interactive tables.';\n",
              "        element.innerHTML = '';\n",
              "        dataTable['output_type'] = 'display_data';\n",
              "        await google.colab.output.renderOutput(dataTable, element);\n",
              "        const docLink = document.createElement('div');\n",
              "        docLink.innerHTML = docLinkHtml;\n",
              "        element.appendChild(docLink);\n",
              "      }\n",
              "    </script>\n",
              "  </div>\n",
              "  \n",
              "    </div>\n",
              "  </div>\n",
              "  "
            ]
          },
          "metadata": {},
          "execution_count": 3
        }
      ]
    },
    {
      "cell_type": "markdown",
      "source": [
        "문제 2-2. Data 전처리 : 연도(year)와 계절(season) 컬럼 추가"
      ],
      "metadata": {
        "id": "kBYghhaP1kik"
      }
    },
    {
      "cell_type": "code",
      "source": [
        "# 연도컬럼 추가 : YEAR 기 존재, 생략\n",
        "#df['REG_DATE'] = pd.to_datetime(df['REG_DATE'])\n",
        "#df['YEAR2'] = df['REG_DATE'].dt.year\n",
        "#df.info()\n",
        "#df.head()\n",
        "\n",
        "# 계절(SEASON) 컬럼 추가\n",
        "def f_season(MON) :\n",
        "  if MON in ['03','04','05'] :\n",
        "    return '봄'\n",
        "  elif MON in ['06','07','08'] :\n",
        "    return '여름'\n",
        "  elif MON in ['09','10','11'] :\n",
        "    return '가을'\n",
        "  elif MON in ['12','01','02'] :\n",
        "    return '겨울'\n",
        "  else :\n",
        "    return 'N/A'\n",
        "\n",
        "df['SEASON'] = df['MON'].apply(f_season)\n",
        "#df\n"
      ],
      "metadata": {
        "id": "MuBoinaX1xsR"
      },
      "execution_count": 5,
      "outputs": []
    },
    {
      "cell_type": "markdown",
      "source": [
        "문제 3-1. Data 시각화 : 연도별 에너지 사용 총 사용량(전기+가스+수도+지역난방)의 변화"
      ],
      "metadata": {
        "id": "MCVxvtGKU56m"
      }
    },
    {
      "cell_type": "code",
      "source": [
        "# 한글 처리를 위한 matplotlib 설정 (1)\n",
        "\n",
        "!sudo apt-get install -y fonts-nanum\n",
        "!sudo fc-cache –fv\n",
        "!rm ~/.cache/matplotlib -rf\n",
        "\n",
        "# 한글 처리를 위한 matplotlib 설정 (2)\n",
        "\n",
        "import matplotlib.pyplot as plt\n",
        "plt.rc('font', family='NanumBarunGothic')"
      ],
      "metadata": {
        "id": "tDu_lHWCi8M_",
        "outputId": "f6f187d7-86ae-461c-8bd4-17de149d1b32",
        "colab": {
          "base_uri": "https://localhost:8080/"
        }
      },
      "execution_count": 9,
      "outputs": [
        {
          "output_type": "stream",
          "name": "stdout",
          "text": [
            "Reading package lists... Done\n",
            "Building dependency tree... Done\n",
            "Reading state information... Done\n",
            "fonts-nanum is already the newest version (20200506-1).\n",
            "0 upgraded, 0 newly installed, 0 to remove and 38 not upgraded.\n"
          ]
        }
      ]
    },
    {
      "cell_type": "code",
      "source": [
        "import matplotlib.pyplot as plt\n",
        "import seaborn as sns #matplotlib 확장\n",
        "\n",
        "df['EUS'] = pd.to_numeric(df['EUS'])\n",
        "df['GUS'] = pd.to_numeric(df['GUS'])\n",
        "df['WUS'] = pd.to_numeric(df['WUS'])\n",
        "df['HUS'] = pd.to_numeric(df['HUS'])\n",
        "df['TOTAL'] = df['EUS'] + df['GUS'] + df['WUS'] + df['HUS']\n",
        "df_total = df.groupby('YEAR')[['TOTAL','EUS','GUS','WUS','HUS']].sum()\n",
        "#print(df_total)\n",
        "df_total.to_excel('total.xlsx')\n",
        "\n",
        "#plt.figure(figsize=(12, 6))\n",
        "sns.lineplot(data=df_total, x='YEAR', y='TOTAL', marker='o')\n",
        "plt.title(\"연도별 에너지 사용 총액 변화 - 4010\")\n",
        "plt.xlabel(\"연도\")\n",
        "plt.ylabel(\"에너지 사용량\")\n",
        "plt.show()\n"
      ],
      "metadata": {
        "id": "bzsCIYYZXvvr",
        "outputId": "5a397c43-89f9-4773-c583-ac04b345221b",
        "colab": {
          "base_uri": "https://localhost:8080/",
          "height": 471
        }
      },
      "execution_count": 25,
      "outputs": [
        {
          "output_type": "display_data",
          "data": {
            "text/plain": [
              "<Figure size 640x480 with 1 Axes>"
            ],
            "image/png": "[encoded data removed]"
          },
          "metadata": {}
        }
      ]
    },
    {
      "cell_type": "markdown",
      "source": [
        " 문제 3-2. 계절별 가스 사용량 평균"
      ],
      "metadata": {
        "id": "dcS06HrQpXVY"
      }
    },
    {
      "cell_type": "code",
      "source": [
        "df_gas = df.groupby('SEASON')['GUS'].mean()\n",
        "#계절별 소팅\n",
        "season_order = ['봄', '여름', '가을', '겨울']\n",
        "df_gas['SEASON'] = pd.Categorical(df_gas['SEASON'], categories = season_order, ordered = True )\n",
        "\n",
        "# 정렬\n",
        "# df_gas.sort_values('SEASON')\n"
      ],
      "metadata": {
        "id": "5ICbpNi8pf4G",
        "outputId": "d1f79fcb-9625-44eb-e07c-8a376c4f2204",
        "colab": {
          "base_uri": "https://localhost:8080/",
          "height": 572
        }
      },
      "execution_count": 35,
      "outputs": [
        {
          "output_type": "error",
          "ename": "KeyError",
          "evalue": "'SEASON'",
          "traceback": [
            "\u001b[0;31m---------------------------------------------------------------------------\u001b[0m",
            "\u001b[0;31mKeyError\u001b[0m                                  Traceback (most recent call last)",
            "\u001b[0;32m/usr/local/lib/python3.12/dist-packages/pandas/core/indexes/base.py\u001b[0m in \u001b[0;36mget_loc\u001b[0;34m(self, key)\u001b[0m\n\u001b[1;32m   3804\u001b[0m         \u001b[0;32mtry\u001b[0m\u001b[0;34m:\u001b[0m\u001b[0;34m\u001b[0m\u001b[0;34m\u001b[0m\u001b[0m\n\u001b[0;32m-> 3805\u001b[0;31m             \u001b[0;32mreturn\u001b[0m \u001b[0mself\u001b[0m\u001b[0;34m.\u001b[0m\u001b[0m_engine\u001b[0m\u001b[0;34m.\u001b[0m\u001b[0mget_loc\u001b[0m\u001b[0;34m(\u001b[0m\u001b[0mcasted_key\u001b[0m\u001b[0;34m)\u001b[0m\u001b[0;34m\u001b[0m\u001b[0;34m\u001b[0m\u001b[0m\n\u001b[0m\u001b[1;32m   3806\u001b[0m         \u001b[0;32mexcept\u001b[0m \u001b[0mKeyError\u001b[0m \u001b[0;32mas\u001b[0m \u001b[0merr\u001b[0m\u001b[0;34m:\u001b[0m\u001b[0;34m\u001b[0m\u001b[0;34m\u001b[0m\u001b[0m\n",
            "\u001b[0;32mindex.pyx\u001b[0m in \u001b[0;36mpandas._libs.index.IndexEngine.get_loc\u001b[0;34m()\u001b[0m\n",
            "\u001b[0;32mindex.pyx\u001b[0m in \u001b[0;36mpandas._libs.index.IndexEngine.get_loc\u001b[0;34m()\u001b[0m\n",
            "\u001b[0;32mpandas/_libs/hashtable_class_helper.pxi\u001b[0m in \u001b[0;36mpandas._libs.hashtable.PyObjectHashTable.get_item\u001b[0;34m()\u001b[0m\n",
            "\u001b[0;32mpandas/_libs/hashtable_class_helper.pxi\u001b[0m in \u001b[0;36mpandas._libs.hashtable.PyObjectHashTable.get_item\u001b[0;34m()\u001b[0m\n",
            "\u001b[0;31mKeyError\u001b[0m: 'SEASON'",
            "\nThe above exception was the direct cause of the following exception:\n",
            "\u001b[0;31mKeyError\u001b[0m                                  Traceback (most recent call last)",
            "\u001b[0;32m/tmp/ipython-input-896642042.py\u001b[0m in \u001b[0;36m<cell line: 0>\u001b[0;34m()\u001b[0m\n\u001b[1;32m      2\u001b[0m \u001b[0;31m#계절별 소팅\u001b[0m\u001b[0;34m\u001b[0m\u001b[0;34m\u001b[0m\u001b[0m\n\u001b[1;32m      3\u001b[0m \u001b[0mseason_order\u001b[0m \u001b[0;34m=\u001b[0m \u001b[0;34m[\u001b[0m\u001b[0;34m'봄'\u001b[0m\u001b[0;34m,\u001b[0m \u001b[0;34m'여름'\u001b[0m\u001b[0;34m,\u001b[0m \u001b[0;34m'가을'\u001b[0m\u001b[0;34m,\u001b[0m \u001b[0;34m'겨울'\u001b[0m\u001b[0;34m]\u001b[0m\u001b[0;34m\u001b[0m\u001b[0;34m\u001b[0m\u001b[0m\n\u001b[0;32m----> 4\u001b[0;31m \u001b[0mdf_gas\u001b[0m\u001b[0;34m[\u001b[0m\u001b[0;34m'SEASON'\u001b[0m\u001b[0;34m]\u001b[0m \u001b[0;34m=\u001b[0m \u001b[0mpd\u001b[0m\u001b[0;34m.\u001b[0m\u001b[0mCategorical\u001b[0m\u001b[0;34m(\u001b[0m\u001b[0mdf_gas\u001b[0m\u001b[0;34m[\u001b[0m\u001b[0;34m'SEASON'\u001b[0m\u001b[0;34m]\u001b[0m\u001b[0;34m,\u001b[0m \u001b[0mcategories\u001b[0m\u001b[0;34m=\u001b[0m\u001b[0mseason_order\u001b[0m\u001b[0;34m,\u001b[0m \u001b[0mordered\u001b[0m \u001b[0;34m=\u001b[0m \u001b[0;32mTrue\u001b[0m \u001b[0;34m)\u001b[0m\u001b[0;34m\u001b[0m\u001b[0;34m\u001b[0m\u001b[0m\n\u001b[0m\u001b[1;32m      5\u001b[0m \u001b[0;34m\u001b[0m\u001b[0m\n\u001b[1;32m      6\u001b[0m \u001b[0;31m# 정렬\u001b[0m\u001b[0;34m\u001b[0m\u001b[0;34m\u001b[0m\u001b[0m\n",
            "\u001b[0;32m/usr/local/lib/python3.12/dist-packages/pandas/core/series.py\u001b[0m in \u001b[0;36m__getitem__\u001b[0;34m(self, key)\u001b[0m\n\u001b[1;32m   1119\u001b[0m \u001b[0;34m\u001b[0m\u001b[0m\n\u001b[1;32m   1120\u001b[0m         \u001b[0;32melif\u001b[0m \u001b[0mkey_is_scalar\u001b[0m\u001b[0;34m:\u001b[0m\u001b[0;34m\u001b[0m\u001b[0;34m\u001b[0m\u001b[0m\n\u001b[0;32m-> 1121\u001b[0;31m             \u001b[0;32mreturn\u001b[0m \u001b[0mself\u001b[0m\u001b[0;34m.\u001b[0m\u001b[0m_get_value\u001b[0m\u001b[0;34m(\u001b[0m\u001b[0mkey\u001b[0m\u001b[0;34m)\u001b[0m\u001b[0;34m\u001b[0m\u001b[0;34m\u001b[0m\u001b[0m\n\u001b[0m\u001b[1;32m   1122\u001b[0m \u001b[0;34m\u001b[0m\u001b[0m\n\u001b[1;32m   1123\u001b[0m         \u001b[0;31m# Convert generator to list before going through hashable part\u001b[0m\u001b[0;34m\u001b[0m\u001b[0;34m\u001b[0m\u001b[0m\n",
            "\u001b[0;32m/usr/local/lib/python3.12/dist-packages/pandas/core/series.py\u001b[0m in \u001b[0;36m_get_value\u001b[0;34m(self, label, takeable)\u001b[0m\n\u001b[1;32m   1235\u001b[0m \u001b[0;34m\u001b[0m\u001b[0m\n\u001b[1;32m   1236\u001b[0m         \u001b[0;31m# Similar to Index.get_value, but we do not fall back to positional\u001b[0m\u001b[0;34m\u001b[0m\u001b[0;34m\u001b[0m\u001b[0m\n\u001b[0;32m-> 1237\u001b[0;31m         \u001b[0mloc\u001b[0m \u001b[0;34m=\u001b[0m \u001b[0mself\u001b[0m\u001b[0;34m.\u001b[0m\u001b[0mindex\u001b[0m\u001b[0;34m.\u001b[0m\u001b[0mget_loc\u001b[0m\u001b[0;34m(\u001b[0m\u001b[0mlabel\u001b[0m\u001b[0;34m)\u001b[0m\u001b[0;34m\u001b[0m\u001b[0;34m\u001b[0m\u001b[0m\n\u001b[0m\u001b[1;32m   1238\u001b[0m \u001b[0;34m\u001b[0m\u001b[0m\n\u001b[1;32m   1239\u001b[0m         \u001b[0;32mif\u001b[0m \u001b[0mis_integer\u001b[0m\u001b[0;34m(\u001b[0m\u001b[0mloc\u001b[0m\u001b[0;34m)\u001b[0m\u001b[0;34m:\u001b[0m\u001b[0;34m\u001b[0m\u001b[0;34m\u001b[0m\u001b[0m\n",
            "\u001b[0;32m/usr/local/lib/python3.12/dist-packages/pandas/core/indexes/base.py\u001b[0m in \u001b[0;36mget_loc\u001b[0;34m(self, key)\u001b[0m\n\u001b[1;32m   3810\u001b[0m             ):\n\u001b[1;32m   3811\u001b[0m                 \u001b[0;32mraise\u001b[0m \u001b[0mInvalidIndexError\u001b[0m\u001b[0;34m(\u001b[0m\u001b[0mkey\u001b[0m\u001b[0;34m)\u001b[0m\u001b[0;34m\u001b[0m\u001b[0;34m\u001b[0m\u001b[0m\n\u001b[0;32m-> 3812\u001b[0;31m             \u001b[0;32mraise\u001b[0m \u001b[0mKeyError\u001b[0m\u001b[0;34m(\u001b[0m\u001b[0mkey\u001b[0m\u001b[0;34m)\u001b[0m \u001b[0;32mfrom\u001b[0m \u001b[0merr\u001b[0m\u001b[0;34m\u001b[0m\u001b[0;34m\u001b[0m\u001b[0m\n\u001b[0m\u001b[1;32m   3813\u001b[0m         \u001b[0;32mexcept\u001b[0m \u001b[0mTypeError\u001b[0m\u001b[0;34m:\u001b[0m\u001b[0;34m\u001b[0m\u001b[0;34m\u001b[0m\u001b[0m\n\u001b[1;32m   3814\u001b[0m             \u001b[0;31m# If we have a listlike key, _check_indexing_error will raise\u001b[0m\u001b[0;34m\u001b[0m\u001b[0;34m\u001b[0m\u001b[0m\n",
            "\u001b[0;31mKeyError\u001b[0m: 'SEASON'"
          ]
        }
      ]
    }
  ]
}